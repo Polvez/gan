{
 "cells": [
  {
   "cell_type": "code",
   "execution_count": 51,
   "metadata": {
    "ExecuteTime": {
     "end_time": "2020-12-30T15:37:22.466798Z",
     "start_time": "2020-12-30T15:37:21.873831Z"
    }
   },
   "outputs": [],
   "source": [
    "import tensorflow_hub as hub\n",
    "import tensorflow as tf\n",
    "import yaml\n",
    "from pathlib import Path\n",
    "from utils import display_images\n",
    "import numpy as np\n",
    "\n",
    "from data_gen import generate_sin_data, generate_mnist_data, generate_mnist_data_dcgan\n",
    "config = yaml.load(Path(\"config.yaml\").read_text(), Loader=yaml.SafeLoader)\n",
    "\n",
    "train_dataset = generate_mnist_data_dcgan(config)"
   ]
  },
  {
   "cell_type": "code",
   "execution_count": 10,
   "metadata": {
    "ExecuteTime": {
     "end_time": "2020-12-30T15:12:21.907480Z",
     "start_time": "2020-12-30T15:12:21.741362Z"
    }
   },
   "outputs": [],
   "source": []
  },
  {
   "cell_type": "code",
   "execution_count": 44,
   "metadata": {
    "ExecuteTime": {
     "end_time": "2020-12-30T15:30:23.545110Z",
     "start_time": "2020-12-30T15:30:23.348142Z"
    }
   },
   "outputs": [],
   "source": [
    "for step, train_batch in enumerate(train_dataset):\n",
    "    train_example = train_batch[0:10]\n",
    "    x = classifier.predict(train_example)\n",
    "    x = tf.nn.softmax(x)\n",
    "    break"
   ]
  },
  {
   "cell_type": "code",
   "execution_count": 48,
   "metadata": {
    "ExecuteTime": {
     "end_time": "2020-12-30T15:30:45.476098Z",
     "start_time": "2020-12-30T15:30:45.471044Z"
    }
   },
   "outputs": [
    {
     "data": {
      "text/plain": [
       "<tf.Tensor: shape=(4, 10), dtype=float32, numpy=\n",
       "array([[2.1488663e-06, 9.9994791e-01, 5.2335285e-08, 5.9154354e-10,\n",
       "        4.0116433e-05, 3.4568753e-08, 5.9944563e-07, 6.9745615e-06,\n",
       "        1.3699414e-06, 7.3605690e-07],\n",
       "       [1.9035352e-07, 8.2692386e-06, 8.5608697e-08, 1.5469035e-07,\n",
       "        9.9975830e-01, 8.8639234e-07, 1.8272266e-07, 6.7142675e-05,\n",
       "        3.5920451e-07, 1.6452272e-04],\n",
       "       [4.0322420e-06, 9.9996316e-01, 1.1726181e-06, 1.9578312e-09,\n",
       "        1.4953148e-05, 9.3478519e-08, 7.6690694e-06, 5.8358955e-06,\n",
       "        3.0401218e-06, 5.4472526e-08],\n",
       "       [1.8407749e-07, 3.7658012e-08, 8.8243469e-06, 9.9972230e-01,\n",
       "        1.6207904e-09, 1.2719268e-05, 5.5739151e-09, 1.6400037e-07,\n",
       "        1.3136789e-04, 1.2439727e-04]], dtype=float32)>"
      ]
     },
     "execution_count": 48,
     "metadata": {},
     "output_type": "execute_result"
    }
   ],
   "source": [
    "x[0+4:8]"
   ]
  },
  {
   "cell_type": "code",
   "execution_count": 46,
   "metadata": {
    "ExecuteTime": {
     "end_time": "2020-12-30T15:30:27.587976Z",
     "start_time": "2020-12-30T15:30:27.275832Z"
    }
   },
   "outputs": [
    {
     "data": {
      "image/png": "[encoded data removed]",
      "text/plain": [
       "<Figure size 1296x432 with 4 Axes>"
      ]
     },
     "metadata": {
      "needs_background": "light"
     },
     "output_type": "display_data"
    }
   ],
   "source": [
    "display_images(train_example)"
   ]
  },
  {
   "cell_type": "markdown",
   "metadata": {},
   "source": [
    "## Inception score"
   ]
  },
  {
   "cell_type": "code",
   "execution_count": 62,
   "metadata": {
    "ExecuteTime": {
     "end_time": "2020-12-30T15:40:05.383781Z",
     "start_time": "2020-12-30T15:40:05.199018Z"
    }
   },
   "outputs": [],
   "source": [
    "classifier = tf.keras.Sequential([\n",
    "    hub.KerasLayer(\"https://tfhub.dev/tensorflow/tfgan/eval/mnist/logits/1\")\n",
    "])\n",
    "\n",
    "def get_inception_score(classifier, images):\n",
    "    preds = classifier.predict(images)\n",
    "    preds = tf.nn.softmax(preds)\n",
    "    \n",
    "    kl = preds * (np.log(preds) - np.log(np.expand_dims(np.mean(preds, 0), 0)))\n",
    "    kl = np.mean(np.sum(kl, 1))\n",
    "    score = np.exp(kl)\n",
    "    return score\n"
   ]
  },
  {
   "cell_type": "code",
   "execution_count": 63,
   "metadata": {
    "ExecuteTime": {
     "end_time": "2020-12-30T15:40:26.277221Z",
     "start_time": "2020-12-30T15:40:05.769062Z"
    }
   },
   "outputs": [],
   "source": [
    "scores = []\n",
    "for step, train_batch in enumerate(train_dataset):\n",
    "    score = get_inception_score(classifier, train_batch)\n",
    "    scores.append(score)\n",
    "    "
   ]
  },
  {
   "cell_type": "code",
   "execution_count": 64,
   "metadata": {
    "ExecuteTime": {
     "end_time": "2020-12-30T15:40:26.283632Z",
     "start_time": "2020-12-30T15:40:26.279557Z"
    }
   },
   "outputs": [
    {
     "name": "stdout",
     "output_type": "stream",
     "text": [
      "9.5337305 0.1179902\n"
     ]
    }
   ],
   "source": [
    "print(np.mean(scores), np.std(scores))"
   ]
  },
  {
   "cell_type": "code",
   "execution_count": null,
   "metadata": {},
   "outputs": [],
   "source": []
  }
 ],
 "metadata": {
  "kernelspec": {
   "display_name": "Python 3",
   "language": "python",
   "name": "python3"
  },
  "language_info": {
   "codemirror_mode": {
    "name": "ipython",
    "version": 3
   },
   "file_extension": ".py",
   "mimetype": "text/x-python",
   "name": "python",
   "nbconvert_exporter": "python",
   "pygments_lexer": "ipython3",
   "version": "3.8.1"
  },
  "toc": {
   "base_numbering": 1,
   "nav_menu": {},
   "number_sections": true,
   "sideBar": true,
   "skip_h1_title": false,
   "title_cell": "Table of Contents",
   "title_sidebar": "Contents",
   "toc_cell": false,
   "toc_position": {},
   "toc_section_display": true,
   "toc_window_display": false
  }
 },
 "nbformat": 4,
 "nbformat_minor": 4
}
