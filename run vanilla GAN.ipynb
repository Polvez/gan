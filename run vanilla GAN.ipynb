{
 "cells": [
  {
   "cell_type": "code",
   "execution_count": 2,
   "metadata": {
    "ExecuteTime": {
     "end_time": "2020-12-30T08:41:28.649007Z",
     "start_time": "2020-12-30T08:41:25.904784Z"
    }
   },
   "outputs": [],
   "source": [
    "import tensorflow as tf\n",
    "import yaml\n",
    "from pathlib import Path\n",
    "from vanilla_gan import GAN\n",
    "from data_gen import generate_sin_data, generate_mnist_data\n",
    "from utils import display_images\n",
    "\n",
    "config = yaml.load(Path(\"config.yaml\").read_text(), Loader=yaml.SafeLoader)"
   ]
  },
  {
   "cell_type": "code",
   "execution_count": 3,
   "metadata": {
    "ExecuteTime": {
     "end_time": "2020-12-30T08:41:29.226213Z",
     "start_time": "2020-12-30T08:41:28.651156Z"
    }
   },
   "outputs": [],
   "source": [
    "train_dataset = generate_mnist_data(config)"
   ]
  },
  {
   "cell_type": "code",
   "execution_count": null,
   "metadata": {
    "ExecuteTime": {
     "start_time": "2020-12-30T08:52:59.789Z"
    },
    "scrolled": false
   },
   "outputs": [
    {
     "name": "stdout",
     "output_type": "stream",
     "text": [
      "Epoch nr: 0\n",
      "Step 0: Discriminator loss = 1.265284538269043, Generator loss: 0.7457849979400635\n",
      "Step 100: Discriminator loss = 0.0910552591085434, Generator loss: 6.536453723907471\n",
      "Step 200: Discriminator loss = 0.026232007890939713, Generator loss: 6.73733377456665\n",
      "Step 300: Discriminator loss = 0.07688204199075699, Generator loss: 7.936504364013672\n",
      "Step 400: Discriminator loss = 0.057428669184446335, Generator loss: 16.44245147705078\n",
      "Step 500: Discriminator loss = 0.03325369954109192, Generator loss: 11.234960556030273\n",
      "Step 600: Discriminator loss = 0.025297364220023155, Generator loss: 12.931153297424316\n",
      "Step 700: Discriminator loss = 0.7241214513778687, Generator loss: 14.941121101379395\n"
     ]
    }
   ],
   "source": [
    "model = GAN(config)\n",
    "\n",
    "EPOCHS = 2\n",
    "batch_size = config[\"vanilla-gan\"][\"batch_size\"]\n",
    "\n",
    "for epoch in range(EPOCHS):\n",
    "    print(f\"Epoch nr: {epoch}\")\n",
    "    for step, train_batch in enumerate(train_dataset):\n",
    "        discriminator_loss, generator_loss = model(train_batch)\n",
    "\n",
    "        if step % 100 == 0:\n",
    "            print(f\"Step {step}: Discriminator loss = {discriminator_loss}, Generator loss: {generator_loss}\")\n",
    "\n",
    "    generated_samples = model.generate_sample()\n",
    "    display_images(generated_samples)\n"
   ]
  },
  {
   "cell_type": "code",
   "execution_count": null,
   "metadata": {},
   "outputs": [],
   "source": []
  }
 ],
 "metadata": {
  "kernelspec": {
   "display_name": "Python 3",
   "language": "python",
   "name": "python3"
  },
  "language_info": {
   "codemirror_mode": {
    "name": "ipython",
    "version": 3
   },
   "file_extension": ".py",
   "mimetype": "text/x-python",
   "name": "python",
   "nbconvert_exporter": "python",
   "pygments_lexer": "ipython3",
   "version": "3.8.1"
  },
  "toc": {
   "base_numbering": 1,
   "nav_menu": {},
   "number_sections": true,
   "sideBar": true,
   "skip_h1_title": false,
   "title_cell": "Table of Contents",
   "title_sidebar": "Contents",
   "toc_cell": false,
   "toc_position": {},
   "toc_section_display": true,
   "toc_window_display": false
  }
 },
 "nbformat": 4,
 "nbformat_minor": 4
}
